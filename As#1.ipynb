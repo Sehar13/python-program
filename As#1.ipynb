{
 "cells": [
  {
   "cell_type": "code",
   "execution_count": 1,
   "metadata": {},
   "outputs": [
    {
     "name": "stdout",
     "output_type": "stream",
     "text": [
      "Twinkle Twinkle Little Star,\n",
      "   How I Wonder What you Are!\n",
      "       Up Above the world so high,\n",
      "       Like a Diamond in the sky.\n",
      "Twinkle Twinkle Little Star,\n",
      "   How I Wonder What you Are!\n"
     ]
    }
   ],
   "source": [
    "a=\"Twinkle Twinkle Little Star,\"\n",
    "print(a)\n",
    "b=\"   How I Wonder What you Are!\"\n",
    "print(b)\n",
    "c=\"       Up Above the world so high,\"\n",
    "print(c)\n",
    "d=\"       Like a Diamond in the sky.\"\n",
    "print(d)\n",
    "print(a)\n",
    "print(b)\n"
   ]
  },
  {
   "cell_type": "code",
   "execution_count": 2,
   "metadata": {},
   "outputs": [
    {
     "name": "stdout",
     "output_type": "stream",
     "text": [
      "3.7\n"
     ]
    }
   ],
   "source": [
    "a=3.7\n",
    "print(a)\n"
   ]
  },
  {
   "cell_type": "code",
   "execution_count": 3,
   "metadata": {},
   "outputs": [
    {
     "name": "stdout",
     "output_type": "stream",
     "text": [
      "Enter the sentence:Sehar Zeeshan\n",
      "raheS nahseeZ\n"
     ]
    }
   ],
   "source": [
    "str1 =input(\"Enter the sentence:\")\n",
    "words = str1.split()\n",
    "rev_str1 = []\n",
    "for i in words:\n",
    "     rev_str1.append(i[::-1])\n",
    "sen=\" \".join(rev_str1)\n",
    "print(sen)\n"
   ]
  },
  {
   "cell_type": "code",
   "execution_count": 4,
   "metadata": {},
   "outputs": [
    {
     "name": "stdout",
     "output_type": "stream",
     "text": [
      "Current date and time is:\n",
      "22-01-01 22:55:19\n"
     ]
    }
   ],
   "source": [
    "import datetime\n",
    "now=datetime.datetime.now()\n",
    "print(\"Current date and time is:\")\n",
    "print(now.strftime(\"%y-%m-%d %H:%M:%S\"))\n"
   ]
  },
  {
   "cell_type": "code",
   "execution_count": 5,
   "metadata": {},
   "outputs": [
    {
     "name": "stdout",
     "output_type": "stream",
     "text": [
      "Enter the radius of a circle:6\n",
      "Area of circle is:113.09733552923255\n"
     ]
    }
   ],
   "source": [
    "import math\n",
    "radius=float(input(\"Enter the radius of a circle:\"))\n",
    "area= math.pi*radius*radius\n",
    "print(\"Area of circle is:{0}\".format(area))\n"
   ]
  },
  {
   "cell_type": "code",
   "execution_count": 6,
   "metadata": {},
   "outputs": [
    {
     "name": "stdout",
     "output_type": "stream",
     "text": [
      "Enter 1st num=6\n",
      "Enter 2nd num=8\n",
      "14\n"
     ]
    }
   ],
   "source": [
    "x=input(\"Enter 1st num=\")\n",
    "a=int(x)\n",
    "y=input(\"Enter 2nd num=\")\n",
    "b=int(y)\n",
    "z=a+b\n",
    "print(z)\n"
   ]
  },
  {
   "cell_type": "code",
   "execution_count": null,
   "metadata": {},
   "outputs": [],
   "source": []
  }
 ],
 "metadata": {
  "kernelspec": {
   "display_name": "Python 3",
   "language": "python",
   "name": "python3"
  },
  "language_info": {
   "codemirror_mode": {
    "name": "ipython",
    "version": 3
   },
   "file_extension": ".py",
   "mimetype": "text/x-python",
   "name": "python",
   "nbconvert_exporter": "python",
   "pygments_lexer": "ipython3",
   "version": "3.7.4"
  }
 },
 "nbformat": 4,
 "nbformat_minor": 2
}
